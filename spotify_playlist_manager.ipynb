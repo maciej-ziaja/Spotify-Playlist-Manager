{
 "cells": [
  {
   "attachments": {},
   "cell_type": "markdown",
   "metadata": {},
   "source": [
    "#### Authorization and authentication\n",
    "\n",
    "Importing libraries"
   ]
  },
  {
   "cell_type": "code",
   "execution_count": 1,
   "metadata": {},
   "outputs": [],
   "source": [
    "import requests\n",
    "import json\n",
    "import base64\n",
    "import webbrowser\n",
    "import pandas as pd\n",
    "from urllib.parse import urlencode\n",
    "from spotify_secrets import client_id, client_secret, refresh_token"
   ]
  },
  {
   "attachments": {},
   "cell_type": "markdown",
   "metadata": {},
   "source": [
    "Getting the authorization code"
   ]
  },
  {
   "cell_type": "code",
   "execution_count": null,
   "metadata": {},
   "outputs": [],
   "source": [
    "auth_headers = {\n",
    "    'client_id': client_id,\n",
    "    'response_type': 'code',\n",
    "    'redirect_uri': 'http://localhost:7777/callback',\n",
    "    'scope': 'playlist-modify-public user-follow-read playlist-read-collaborative'\n",
    "    }\n",
    "\n",
    "webbrowser.open('https://accounts.spotify.com/authorize?' + urlencode(auth_headers))"
   ]
  },
  {
   "cell_type": "code",
   "execution_count": 12,
   "metadata": {},
   "outputs": [],
   "source": [
    "code = 'AQCkCXJDL9ine4d9tfJPWAbGTzzghSULpKkoctY-Op4tIcj0nvByw2J0WC_Qrv0tFiLLCFXTX0Hhth6XEAiEdBtA6mckoHRykUlKUGWhOKMrLw_Qxi-WNPNi4J4j1C0tETEPG-tMKPllEiRsZh2oG7omoMRo5GwuUryizj4rGyOU9MIXiQ4qdXTJYuphrxc6ztxAz2ISYeadnjKtE8RAsPMjQ1VddOGpbB33qTt7mINIp4U3a7mu6Z3U905jk_VNNP2_IAvjmoZ6'"
   ]
  },
  {
   "attachments": {},
   "cell_type": "markdown",
   "metadata": {},
   "source": [
    "Getting the access token and refresh token"
   ]
  },
  {
   "cell_type": "code",
   "execution_count": null,
   "metadata": {},
   "outputs": [],
   "source": [
    "# Spotify requires to provide client_id and client_secret in a base64 encoded format to authorize\n",
    "\n",
    "encoded_cred = base64.b64encode(client_id.encode() + b':' + client_secret.encode()).decode('utf-8')\n",
    "\n",
    "token_headers = {\n",
    "    'Authorization': 'Basic ' + encoded_cred,\n",
    "    'Content_type': 'application/x-www-form-urlencoded'\n",
    "}\n",
    "\n",
    "token_data = {\n",
    "    'grant_type': 'authorization_code',\n",
    "    'code': code,\n",
    "    'redirect_uri': 'http://localhost:7777/callback'\n",
    "}"
   ]
  },
  {
   "cell_type": "code",
   "execution_count": null,
   "metadata": {},
   "outputs": [],
   "source": [
    "# Get authorization token from the authorization code (first time use)\n",
    "\n",
    "r = requests.post(\n",
    "    'https://accounts.spotify.com/api/token', \n",
    "    data = token_data, \n",
    "    headers = token_headers)\n",
    "token = r.json()['access_token']"
   ]
  },
  {
   "cell_type": "code",
   "execution_count": 3,
   "metadata": {},
   "outputs": [],
   "source": [
    "# Get authorization token from the refresh token, not the authorization code (for the future uses)\n",
    "\n",
    "refresh_response = requests.post(\n",
    "    'https://accounts.spotify.com/api/token',\n",
    "    data = {\n",
    "        'grant_type':'refresh_token',\n",
    "        'refresh_token':refresh_token\n",
    "        },\n",
    "    headers = token_headers\n",
    "    )\n",
    "token = refresh_response.json()['access_token']"
   ]
  },
  {
   "attachments": {},
   "cell_type": "markdown",
   "metadata": {},
   "source": [
    "### TOP 10 of every followed artist"
   ]
  },
  {
   "attachments": {},
   "cell_type": "markdown",
   "metadata": {},
   "source": [
    "Defining headers and parameters for the requests."
   ]
  },
  {
   "cell_type": "code",
   "execution_count": 4,
   "metadata": {},
   "outputs": [],
   "source": [
    "user_headers = {\n",
    "    'Authorization': 'Bearer ' + token,\n",
    "    'Content-Type': 'application/json'\n",
    "}\n",
    "\n",
    "user_params = {\n",
    "    'limit': 50,\n",
    "    'country': 'PL'\n",
    "}"
   ]
  },
  {
   "attachments": {},
   "cell_type": "markdown",
   "metadata": {},
   "source": [
    "Due to the limitations, a list of all followed artists needs to be requested in parts of 50."
   ]
  },
  {
   "cell_type": "code",
   "execution_count": 5,
   "metadata": {},
   "outputs": [],
   "source": [
    "#get first 50 followed artists\n",
    "\n",
    "artists_response = requests.get(\n",
    "    'https://api.spotify.com/v1/me/following?type=artist', \n",
    "    params=user_params, \n",
    "    headers=user_headers)\n",
    "\n",
    "artist_id_list = [i['id'] for i in artists_response.json()['artists']['items']]\n",
    "no_of_artists = artists_response.json()['artists']['total']\n",
    "next_50_artists = artists_response.json()['artists']['next']"
   ]
  },
  {
   "cell_type": "code",
   "execution_count": 6,
   "metadata": {},
   "outputs": [],
   "source": [
    "#get next followed artists and make them into one list\n",
    "\n",
    "for i in range(no_of_artists//50):\n",
    "    artists_response = requests.get(\n",
    "        f\"{next_50_artists}\", \n",
    "        params=user_params, \n",
    "        headers=user_headers)\n",
    "    artist_id_list = artist_id_list + [i['id'] for i in artists_response.json()['artists']['items']]\n",
    "    next_50_artists = artists_response.json()['artists']['next']"
   ]
  },
  {
   "attachments": {},
   "cell_type": "markdown",
   "metadata": {},
   "source": [
    "Getting the list of Top 10 songs for every followed artist. These are then combined into a long list of every artist's Top 10."
   ]
  },
  {
   "cell_type": "code",
   "execution_count": 7,
   "metadata": {},
   "outputs": [],
   "source": [
    "all_songs = []\n",
    "for artist in artist_id_list:\n",
    "    songs_response = requests.get(\n",
    "        f'https://api.spotify.com/v1/artists/{artist}/top-tracks', \n",
    "        params=user_params, \n",
    "        headers=user_headers)\n",
    "    artist_top_songs_list = [i['id'] for i in songs_response.json()['tracks']]\n",
    "    all_songs = all_songs + artist_top_songs_list"
   ]
  },
  {
   "attachments": {},
   "cell_type": "markdown",
   "metadata": {},
   "source": [
    "Creating a new playlist that can be filled with new list of songs. Defining a function can be useful in the future with the playlist merger script.  \n",
    "Function returns an ID of created playlist."
   ]
  },
  {
   "cell_type": "code",
   "execution_count": 8,
   "metadata": {},
   "outputs": [],
   "source": [
    "def create_playlist(name, description, public):\n",
    "        playlist_response = requests.post(\n",
    "                'https://api.spotify.com/v1/users/11171749586/playlists',\n",
    "                headers = user_headers,\n",
    "                json = {\n",
    "                        'name': name,\n",
    "                        'description': description,\n",
    "                        'public': public\n",
    "                        }\n",
    "        )\n",
    "        new_playlist_id = playlist_response.json()['id']\n",
    "        return new_playlist_id\n",
    "\n",
    "new_playlist_id = create_playlist('Followed Top 10', \"All followed artists' Top 10\", True)"
   ]
  },
  {
   "attachments": {},
   "cell_type": "markdown",
   "metadata": {},
   "source": [
    "Adding songs to created playlist. Also with defined function and using the ID obtained before."
   ]
  },
  {
   "cell_type": "code",
   "execution_count": 9,
   "metadata": {},
   "outputs": [],
   "source": [
    "def add_songs_to_playlist (songs_list, playlist_id):\n",
    "\n",
    "        #add required strings to the songs IDs (songs IDs need to be in a specific format)\n",
    "        all_songs_stringed = ['spotify:track:' + song for song in songs_list]\n",
    "\n",
    "        #create strings of songs IDs in groups of 100 (maximum number that can be added with one request)\n",
    "        songs_pack = [all_songs_stringed[x:x+100] for x in range(0, len(all_songs_stringed), 100)]\n",
    "\n",
    "        for strings in songs_pack:\n",
    "                add_items_response = requests.post(\n",
    "                        f'https://api.spotify.com/v1/playlists/{playlist_id}/tracks',\n",
    "                        headers = user_headers,\n",
    "                        json = {\n",
    "                                'uris': strings\n",
    "                        }\n",
    "                );\n",
    "\n",
    "add_songs_to_playlist(all_songs, new_playlist_id)"
   ]
  },
  {
   "attachments": {},
   "cell_type": "markdown",
   "metadata": {},
   "source": [
    "### Playlists Merger\n",
    "\n",
    "Getting a list of all the playlists that were created by a user.  \n",
    "Using Pandas to create a table for comfortable view and easy ID's picking."
   ]
  },
  {
   "cell_type": "code",
   "execution_count": 10,
   "metadata": {},
   "outputs": [],
   "source": [
    "playlists_response = requests.get(\n",
    "    'https://api.spotify.com/v1/users/11171749586/playlists', \n",
    "    params=user_params, \n",
    "    headers=user_headers)\n",
    "\n",
    "playlists_list = playlists_response.json()"
   ]
  },
  {
   "cell_type": "code",
   "execution_count": 13,
   "metadata": {},
   "outputs": [],
   "source": [
    "playlists_df = pd.DataFrame({\n",
    "                            'name':[i['name'] for i in playlists_list['items']],\n",
    "                            'id':[i['id'] for i in playlists_list['items']]\n",
    "})"
   ]
  },
  {
   "attachments": {},
   "cell_type": "markdown",
   "metadata": {},
   "source": [
    "Picking playlists for merging into new Car Playlist"
   ]
  },
  {
   "cell_type": "code",
   "execution_count": 14,
   "metadata": {},
   "outputs": [],
   "source": [
    "merge_list = ['47PYFKmPotdMtXDOLm2o7s', '5QBr683bl4i9dwMQcFwDvT', '11QN76qqTLW9VY2qjicuNP', '34109C2GcEAmTp5biAKnoM', '51rebyQvvjW7w8S1vHvIyz', '51NO4S2XoJM88QacOMblKC']"
   ]
  },
  {
   "attachments": {},
   "cell_type": "markdown",
   "metadata": {},
   "source": [
    "Getting a list of songs from a list of playlists. Defining a function so it can be used with to merge different playlists in the future."
   ]
  },
  {
   "cell_type": "code",
   "execution_count": 15,
   "metadata": {},
   "outputs": [],
   "source": [
    "def get_playlists_songs(playlists_id_list):\n",
    "    \n",
    "    songs_id_list = []\n",
    "\n",
    "    for id in playlists_id_list:\n",
    "        id_response = requests.get(\n",
    "                            f'https://api.spotify.com/v1/playlists/{id}/tracks', \n",
    "                            params=user_params, \n",
    "                            headers=user_headers)\n",
    "    \n",
    "        temp_songs_id_list = [i['track']['id'] for i in id_response.json()['items']]\n",
    "        no_of_songs = id_response.json()['total']\n",
    "        next_50_songs = id_response.json()['next']\n",
    "\n",
    "        if no_of_songs > 50:\n",
    "            for i in range(no_of_songs//50):\n",
    "                id_response = requests.get(\n",
    "                    f\"{next_50_songs}\", \n",
    "                    params=user_params, \n",
    "                    headers=user_headers)\n",
    "                temp_songs_id_list = temp_songs_id_list + [i['track']['id'] for i in id_response.json()['items']]\n",
    "                next_50_songs = id_response.json()['next']\n",
    "\n",
    "        songs_id_list = songs_id_list + temp_songs_id_list\n",
    "\n",
    "    return songs_id_list"
   ]
  },
  {
   "cell_type": "code",
   "execution_count": 16,
   "metadata": {},
   "outputs": [],
   "source": [
    "all_songs_list = get_playlists_songs(merge_list)"
   ]
  },
  {
   "attachments": {},
   "cell_type": "markdown",
   "metadata": {},
   "source": [
    "Creating a new playlist and filling it with the list of songs. Using functions that were defined earlier."
   ]
  },
  {
   "cell_type": "code",
   "execution_count": 17,
   "metadata": {},
   "outputs": [],
   "source": [
    "car_playlist_id = create_playlist('Car playlist', 'Songs for driving', True)"
   ]
  },
  {
   "cell_type": "code",
   "execution_count": 18,
   "metadata": {},
   "outputs": [],
   "source": [
    "add_songs_to_playlist(all_songs_list, car_playlist_id)"
   ]
  }
 ],
 "metadata": {
  "kernelspec": {
   "display_name": "base",
   "language": "python",
   "name": "python3"
  },
  "language_info": {
   "codemirror_mode": {
    "name": "ipython",
    "version": 3
   },
   "file_extension": ".py",
   "mimetype": "text/x-python",
   "name": "python",
   "nbconvert_exporter": "python",
   "pygments_lexer": "ipython3",
   "version": "3.9.12"
  },
  "orig_nbformat": 4,
  "vscode": {
   "interpreter": {
    "hash": "19dc75bebfbe8f8d1e7a7cae56d1433d24ce0b1ca8c4592e0398edd2d2546419"
   }
  }
 },
 "nbformat": 4,
 "nbformat_minor": 2
}
